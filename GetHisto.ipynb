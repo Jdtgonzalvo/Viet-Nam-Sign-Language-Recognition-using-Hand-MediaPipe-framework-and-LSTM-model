{
 "cells": [
  {
   "cell_type": "code",
   "execution_count": 1,
   "metadata": {},
   "outputs": [],
   "source": [
    "import xlsxwriter\n",
    "import os\n",
    "import sys\n",
    "import numpy as np\n",
    "import pandas as pd\n",
    "from collections import Counter\n",
    "import matplotlib.pylab as plt"
   ]
  },
  {
   "cell_type": "code",
   "execution_count": 2,
   "metadata": {},
   "outputs": [],
   "source": [
    "def rm_zero_sequences_endlist(txtlist):\n",
    "    numbers = txtlist\n",
    "    if (numbers[-1] ==0 and numbers[-2] ==0 and numbers[-3] ==0 and numbers[-4] ==0 and numbers[-5] ==0 and numbers[-6] ==0\n",
    "    and numbers[-7] ==0 and numbers[-8] ==0 and numbers[-9] ==0 and numbers[-10] ==0 and numbers[-11] ==0 and numbers[-12] ==0\n",
    "    and numbers[-13] ==0 and numbers[-14] ==0 and numbers[-15] ==0 and numbers[-16] ==0 and numbers[-17] ==0 and numbers[-18] ==0\n",
    "    and numbers[-19] ==0 and numbers[-20] ==0 and numbers[-21] ==0 and numbers[-22] ==0 and numbers[-23] ==0 and numbers[-24] ==0\n",
    "    and numbers[-25] ==0 and numbers[-26] ==0 and numbers[-27] ==0 and numbers[-28] ==0 and numbers[-29] ==0 and numbers[-30] ==0\n",
    "    and numbers[-31] ==0 and numbers[-32] ==0 and numbers[-33] ==0 and numbers[-34] ==0 and numbers[-35] ==0 and numbers[-36] ==0\n",
    "    and numbers[-37] ==0 and numbers[-38] ==0 and numbers[-39] ==0 and numbers[-40] ==0 and numbers[-41] ==0 and numbers[-42] ==0):\n",
    "        numbers = numbers[:-42]\n",
    "    return numbers"
   ]
  },
  {
   "cell_type": "code",
   "execution_count": 3,
   "metadata": {},
   "outputs": [],
   "source": [
    "def return_frame(dirname):\n",
    "    frames=[] #list to save frame numbers in txt files\n",
    "    listfile=os.listdir(dirname)\n",
    "    for file in listfile:\n",
    "        if \"_\" in file: #ignore mp4 files\n",
    "            continue\n",
    "        wordname=file\n",
    "        textlist=os.listdir(dirname+wordname)\n",
    "        for text in textlist:\n",
    "            if \"DS_\" in text:\n",
    "                continue\n",
    "            textname=dirname+wordname+\"/\"+text\n",
    "            with open(textname, mode = 'r') as t: #open txt files \n",
    "                numbers = np.array([float(num) for num in t.read().split()])\n",
    "                while numbers[0] == 0:\n",
    "                    numbers = numbers[1:]\n",
    "                #print(int(len(numbers)/84))\n",
    "                frames.append(int(len(numbers)/84))\n",
    "\n",
    "    count = Counter(frames)\n",
    "    print(count)\n",
    "    plt.bar(count.keys(), count.values())\n",
    "    plt.xlabel('frame number')\n",
    "    plt.ylabel('count')\n",
    "    plt.title('Histogram')\n",
    "    plt.grid(True)\n",
    "    plt.savefig('hist.png', dpi=300)\n"
   ]
  },
  {
   "cell_type": "code",
   "execution_count": 5,
   "metadata": {},
   "outputs": [
    {
     "name": "stdout",
     "output_type": "stream",
     "text": [
      "Counter({24: 74, 25: 65, 22: 63, 23: 63, 27: 58, 28: 58, 26: 54, 21: 51, 30: 50, 20: 48, 35: 46, 38: 45, 19: 41, 36: 41, 31: 40, 29: 40, 41: 40, 32: 40, 34: 38, 37: 37, 40: 36, 42: 30, 47: 29, 33: 28, 44: 24, 39: 24, 18: 23, 43: 20, 52: 19, 48: 19, 16: 17, 45: 17, 17: 15, 15: 15, 54: 15, 51: 15, 50: 15, 46: 14, 14: 13, 49: 13, 56: 12, 55: 11, 13: 9, 53: 9, 57: 8, 58: 8, 59: 7, 60: 6, 11: 4, 61: 4, 62: 4, 12: 3, 64: 3, 69: 3, 63: 3, 67: 3, 71: 2, 74: 1, 83: 1, 70: 1, 65: 1, 76: 1, 66: 1, 68: 1, 73: 1})\n"
     ]
    },
    {
     "data": {
      "image/png": "[encoded data removed]",
      "text/plain": [
       "<Figure size 432x288 with 1 Axes>"
      ]
     },
     "metadata": {
      "needs_background": "light"
     },
     "output_type": "display_data"
    }
   ],
   "source": [
    "    return_frame(\"/home/shayneysang98/HCMUT/Thesis/Sign-language-recognition-with-RNN-and-Mediapipe/trainsettxt/Relative/\")"
   ]
  },
  {
   "cell_type": "code",
   "execution_count": null,
   "metadata": {},
   "outputs": [],
   "source": []
  }
 ],
 "metadata": {
  "kernelspec": {
   "display_name": "Python 3",
   "language": "python",
   "name": "python3"
  },
  "language_info": {
   "codemirror_mode": {
    "name": "ipython",
    "version": 3
   },
   "file_extension": ".py",
   "mimetype": "text/x-python",
   "name": "python",
   "nbconvert_exporter": "python",
   "pygments_lexer": "ipython3",
   "version": "3.7.7"
  }
 },
 "nbformat": 4,
 "nbformat_minor": 4
}
